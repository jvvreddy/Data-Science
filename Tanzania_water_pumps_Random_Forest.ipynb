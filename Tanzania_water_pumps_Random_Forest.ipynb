{
  "nbformat": 4,
  "nbformat_minor": 0,
  "metadata": {
    "kernelspec": {
      "display_name": "Python 3",
      "language": "python",
      "name": "python3"
    },
    "language_info": {
      "codemirror_mode": {
        "name": "ipython",
        "version": 3
      },
      "file_extension": ".py",
      "mimetype": "text/x-python",
      "name": "python",
      "nbconvert_exporter": "python",
      "pygments_lexer": "ipython3",
      "version": "3.8.9"
    },
    "colab": {
      "name": "Random_Forests_assignment.ipynb",
      "provenance": [],
      "collapsed_sections": []
    }
  },
  "cells": [
    {
      "cell_type": "markdown",
      "metadata": {
        "id": "JCMag3JqjLSU"
      },
      "source": [
        "Pixeltests School Data Science\n",
        "\n",
        "*Unit 2, Sprint 2, Module 2*\n",
        "\n",
        "---"
      ]
    },
    {
      "cell_type": "code",
      "metadata": {
        "id": "--5T5IlUjLSW"
      },
      "source": [
        "%%capture\n",
        "import sys\n",
        "\n",
        "# If you're on Colab:\n",
        "if 'google.colab' in sys.modules:\n",
        "    DATA_PATH = 'https://raw.githubusercontent.com/pixeltests/datasets/main/' #You might not need this, use the data from Kaggle directly!\n",
        "    !pip install category_encoders==2.*\n",
        "    !pip install pandas-profiling==2.*\n",
        "\n",
        "# If you're working locally:\n",
        "else:\n",
        "    DATA_PATH = '../data/'"
      ],
      "execution_count": 1,
      "outputs": []
    },
    {
      "cell_type": "markdown",
      "metadata": {
        "id": "ILG4sKAZjLSW"
      },
      "source": [
        "# Module Project: Random Forests"
      ]
    },
    {
      "cell_type": "markdown",
      "metadata": {
        "id": "8Vy91F1tjLSW"
      },
      "source": [
        "This week, the module projects will focus on creating and improving a model for the Tanazania Water Pump datset. Your goal is to create a model to predict whether a water pump is functional, non-functional, or needs repair.\n",
        "\n",
        "Dataset source: [DrivenData.org](https://www.drivendata.org/competitions/7/pump-it-up-data-mining-the-water-table/).\n",
        "\n",
        "## Directions\n",
        "\n",
        "The tasks for this project are as follows:\n",
        "\n",
        "- **Task 1:** Enter the [Kaggle](https://www.kaggle.com/t/6169ee7701164d24943c98eda2de9b5e) competition using exactly this link!\n",
        "- **Task 2:** Use `wrangle` function to import training and test data.\n",
        "- **Task 3:** Split training data into feature matrix `X` and target vector `y`.\n",
        "- **Task 4:** Split feature matrix `X` and target vector `y` into training and test sets.\n",
        "- **Task 5:** Establish the baseline accuracy score for your dataset.\n",
        "- **Task 6:** Build and train `model_dt`.\n",
        "- **Task 7:** Calculate the training and validation accuracy score for your model.\n",
        "- **Task 8:** Adjust model's `max_depth` to reduce overfitting.\n",
        "- **Task 9 `stretch goal`:** Create a horizontal bar chart showing the 10 most important features for your model.\n",
        "\n",
        "You should limit yourself to the following libraries for this project:\n",
        "\n",
        "- `category_encoders`\n",
        "- `matplotlib`\n",
        "- `pandas`\n",
        "- `pandas-profiling`\n",
        "- `sklearn`\n",
        "\n",
        "# I. Wrangle Data"
      ]
    },
    {
      "cell_type": "code",
      "metadata": {
        "id": "I7JJv45ijLSX"
      },
      "source": [
        "def wrangle(fm_path, tv_path=None):\n",
        "    if tv_path:\n",
        "        df = pd.merge(pd.read_csv(fm_path, \n",
        "                                  na_values=[0, -2.000000e-08]),\n",
        "                      pd.read_csv(tv_path)).set_index('id')\n",
        "    else:\n",
        "        df = pd.read_csv(fm_path, \n",
        "                         na_values=[0, -2.000000e-08],\n",
        "                         index_col='id')\n",
        "\n",
        "    # Drop constant columns\n",
        "    df.drop(columns=['recorded_by'], inplace=True)\n",
        "    df['pump_age'] = 2021- df['construction_year']\n",
        "    # Drop HCCCs\n",
        "    cutoff = 100\n",
        "    drop_cols = [col for col in df.select_dtypes('object').columns\n",
        "                 if df[col].nunique() > cutoff]\n",
        "    df.drop(columns=drop_cols, inplace=True)\n",
        "\n",
        "    # Drop duplicate columns\n",
        "    dupe_cols = [col for col in df.head(15).T.duplicated().index\n",
        "                 if df.head(15).T.duplicated()[col]]\n",
        "    df.drop(columns=dupe_cols, inplace=True)             \n",
        "    \n",
        "\n",
        "    return df"
      ],
      "execution_count": 13,
      "outputs": []
    },
    {
      "cell_type": "code",
      "metadata": {
        "colab": {
          "base_uri": "https://localhost:8080/"
        },
        "id": "2X2FP8r98kaY",
        "outputId": "ae779615-a529-47da-8449-e0417777757a"
      },
      "source": [
        "from google.colab import drive\n",
        "drive.mount('/content/drive')"
      ],
      "execution_count": 2,
      "outputs": [
        {
          "output_type": "stream",
          "text": [
            "Mounted at /content/drive\n"
          ],
          "name": "stdout"
        }
      ]
    },
    {
      "cell_type": "markdown",
      "metadata": {
        "id": "luvtrUDfjLSX"
      },
      "source": [
        "**Task 1:** Sign up for a [Kaggle](https://www.kaggle.com/) account. Choose a username that's based on your real name. Like GitHub, Kaggle is part of your public profile as a data scientist.\n",
        "\n",
        "**Task 2:** Modify the `wrangle` function to engineer a `'pump_age'` feature. Then use the function to read `train_features.csv` and `train_labels.csv` into the DataFrame `df`, and `test_features.csv` into the DataFrame `X_test`."
      ]
    },
    {
      "cell_type": "code",
      "metadata": {
        "id": "e0ZEApwD8gnP"
      },
      "source": [
        "import pandas as pd\n",
        "train_labels = pd.read_csv('/content/drive/MyDrive/Colab Notebooks/train_labels.csv')\n",
        "#train_labels.head()"
      ],
      "execution_count": null,
      "outputs": []
    },
    {
      "cell_type": "code",
      "metadata": {
        "id": "LnEkRDyDjLSY",
        "colab": {
          "base_uri": "https://localhost:8080/"
        },
        "outputId": "86b88335-40b6-43ba-9734-147ef24fe41b"
      },
      "source": [
        "df = wrangle('/content/drive/MyDrive/Colab Notebooks/train_features.csv')\n",
        "X_test = wrangle('/content/drive/MyDrive/Colab Notebooks/test_features.csv')\n",
        "print(df.shape,X_test.shape)"
      ],
      "execution_count": 20,
      "outputs": [
        {
          "output_type": "stream",
          "text": [
            "(47520, 30) (11880, 30)\n"
          ],
          "name": "stdout"
        }
      ]
    },
    {
      "cell_type": "markdown",
      "metadata": {
        "id": "UBieJdKyjLSY"
      },
      "source": [
        "# II. Split Data\n",
        "\n",
        "**Task 3:** Split your DataFrame `df` into a feature matrix `X` and the target vector `y`. You want to predict `'status_group'`."
      ]
    },
    {
      "cell_type": "code",
      "metadata": {
        "id": "Dm49GpqxjLSY"
      },
      "source": [
        "X = df\n",
        "y = train_labels\n",
        "#print(X.shape,y)"
      ],
      "execution_count": null,
      "outputs": []
    },
    {
      "cell_type": "markdown",
      "metadata": {
        "id": "9gqB4rPYjLSY"
      },
      "source": [
        "**Task 4:** Using a randomized split, divide `X` and `y` into a training set (`X_train`, `y_train`) and a validation set (`X_val`, `y_val`)."
      ]
    },
    {
      "cell_type": "code",
      "metadata": {
        "id": "O8riFBPijLSY",
        "colab": {
          "base_uri": "https://localhost:8080/"
        },
        "outputId": "876c38e2-393f-4e18-c459-0741ebcb0cc9"
      },
      "source": [
        "from sklearn.model_selection import train_test_split\n",
        "\n",
        "X_train, X_val, y_train, y_val = train_test_split(X,y,train_size=0.80, test_size=0.20,random_state=42)\n",
        "print(y_train.shape)\n",
        "print(y_val.shape)"
      ],
      "execution_count": 21,
      "outputs": [
        {
          "output_type": "stream",
          "text": [
            "(38016, 1)\n",
            "(9504, 1)\n"
          ],
          "name": "stdout"
        }
      ]
    },
    {
      "cell_type": "markdown",
      "metadata": {
        "id": "WEah9ghwjLSZ"
      },
      "source": [
        "# III. Establish Baseline\n",
        "\n",
        "**Task 5:** Since this is a **classification** problem, you should establish a baseline accuracy score. Figure out what is the majority class in `y_train` and what percentage of your training observations it represents."
      ]
    },
    {
      "cell_type": "code",
      "metadata": {
        "id": "m2e3S-7pHnJX"
      },
      "source": [
        "import numpy as np\n",
        "l = np.zeros(len(X_test),dtype=int)\n",
        "l= pd.DataFrame(l)\n",
        "path_sample ='/content/drive/MyDrive/Colab Notebooks/tanzania sample solution.csv'\n",
        "sample = pd.read_csv(path_sample)\n"
      ],
      "execution_count": 86,
      "outputs": []
    },
    {
      "cell_type": "code",
      "metadata": {
        "id": "gUa0Et0YjLSZ"
      },
      "source": [
        "baseline_acc = 50\n",
        "print('Baseline Accuracy Score:', baseline_acc)"
      ],
      "execution_count": null,
      "outputs": []
    },
    {
      "cell_type": "markdown",
      "metadata": {
        "id": "BXxjTGYgjLSZ"
      },
      "source": [
        "# IV. Build Model\n",
        "\n",
        "**Task 6:** Build a `Pipeline` named `model_rf`, and fit it to your training data. Your `Pipeline` should include:\n",
        "\n",
        "- an `OrdinalEncoder` transformer for categorical features.\n",
        "- a `SimpleImputer` transformer fot missing values.\n",
        "- a `RandomForestClassifier` predictor.\n",
        "\n",
        "**Note:** Don't forget to set the `random_state` parameter for your `RandomForestClassifier`. Also, to decrease training time, set `n_jobs` to `-1`."
      ]
    },
    {
      "cell_type": "code",
      "metadata": {
        "id": "RMTDnMh8jLSZ"
      },
      "source": [
        "import category_encoders as ce\n",
        "from sklearn.impute import SimpleImputer\n",
        "from sklearn.ensemble import RandomForestClassifier\n",
        "from sklearn.pipeline import make_pipeline\n",
        "from sklearn.preprocessing import StandardScaler\n",
        "model_rf =  make_pipeline(\n",
        "    ce.OneHotEncoder(use_cat_names=True), \n",
        "    SimpleImputer(strategy='mean'), \n",
        "    RandomForestClassifier()  \n",
        ")\n",
        "model_rf.fit(X_train,y_train)\n"
      ],
      "execution_count": null,
      "outputs": []
    },
    {
      "cell_type": "markdown",
      "metadata": {
        "id": "v76OD3r1jLSZ"
      },
      "source": [
        "# V. Check Metrics\n",
        "\n",
        "**Task 7:** Calculate the training and validation accuracy scores for `model_rf`."
      ]
    },
    {
      "cell_type": "code",
      "metadata": {
        "id": "UZiySEuejLSZ",
        "colab": {
          "base_uri": "https://localhost:8080/"
        },
        "outputId": "dff5450e-7e0f-435f-c32f-f3decbcbc342"
      },
      "source": [
        "from sklearn.metrics import accuracy_score\n",
        "\n",
        "y_pred1 = model_rf.predict(X_train)\n",
        "y_pred2 = model_rf.predict(X_val)\n",
        "training_acc = accuracy_score(y_pred1,y_train)\n",
        "val_acc = accuracy_score(y_pred2,y_val)\n",
        "print('Training Accuracy Score:', training_acc)\n",
        "print('Validation Accuracy Score:', val_acc)"
      ],
      "execution_count": 29,
      "outputs": [
        {
          "output_type": "stream",
          "text": [
            "Training Accuracy Score: 0.9956334175084175\n",
            "Validation Accuracy Score: 0.7954545454545454\n"
          ],
          "name": "stdout"
        }
      ]
    },
    {
      "cell_type": "markdown",
      "metadata": {
        "id": "qvIQYELHjLSa"
      },
      "source": [
        "# VI. Tune Model\n",
        "\n",
        "**Task 8:** Tune `n_estimators` and `max_depth` hyperparameters for your `RandomForestClassifier` to get the best validation accuracy score for `model_rf`. "
      ]
    },
    {
      "cell_type": "code",
      "metadata": {
        "id": "iYYaiconjLSa",
        "colab": {
          "base_uri": "https://localhost:8080/"
        },
        "outputId": "fd088668-3ecb-4dff-df39-fed32f885b65"
      },
      "source": [
        "import category_encoders as ce\n",
        "from sklearn.impute import SimpleImputer\n",
        "from sklearn.ensemble import RandomForestClassifier\n",
        "from sklearn.pipeline import make_pipeline\n",
        "from sklearn.preprocessing import StandardScaler\n",
        "model_rf =  make_pipeline(\n",
        "    ce.OneHotEncoder(use_cat_names=True), \n",
        "    SimpleImputer(strategy='mean'), \n",
        "    RandomForestClassifier(n_estimators=33,max_depth=20)  \n",
        ")\n",
        "model_rf.fit(X_train,y_train)\n",
        "\n",
        "y_pred1 = model_rf.predict(X_train)\n",
        "y_pred2 = model_rf.predict(X_val)\n",
        "training_acc = accuracy_score(y_pred1,y_train)\n",
        "val_acc = accuracy_score(y_pred2,y_val)\n",
        "print('Training Accuracy Score:', training_acc)\n",
        "print('Validation Accuracy Score:', val_acc)"
      ],
      "execution_count": 93,
      "outputs": [
        {
          "output_type": "stream",
          "text": [
            "/usr/local/lib/python3.7/dist-packages/category_encoders/utils.py:21: FutureWarning: is_categorical is deprecated and will be removed in a future version.  Use is_categorical_dtype instead\n",
            "  elif pd.api.types.is_categorical(cols):\n",
            "/usr/local/lib/python3.7/dist-packages/sklearn/pipeline.py:354: DataConversionWarning: A column-vector y was passed when a 1d array was expected. Please change the shape of y to (n_samples,), for example using ravel().\n",
            "  self._final_estimator.fit(Xt, y, **fit_params)\n"
          ],
          "name": "stderr"
        },
        {
          "output_type": "stream",
          "text": [
            "Training Accuracy Score: 0.9107481060606061\n",
            "Validation Accuracy Score: 0.8002946127946128\n"
          ],
          "name": "stdout"
        }
      ]
    },
    {
      "cell_type": "markdown",
      "metadata": {
        "id": "Do6uFY-ojLSa"
      },
      "source": [
        "# VII. Communicate Results\n",
        "\n",
        "**Task 9:** Generate a list of predictions for `X_test`. The list should be named `y_pred`."
      ]
    },
    {
      "cell_type": "code",
      "metadata": {
        "id": "LqpaouhjjLSa"
      },
      "source": [
        "y_pred = model_rf.predict(X_test)\n",
        "\n",
        "assert len(y_pred) == len(X_test), f'Your list of predictions should have {len(X_test)} items in it. '"
      ],
      "execution_count": 94,
      "outputs": []
    },
    {
      "cell_type": "markdown",
      "metadata": {
        "id": "CpoHVc6HjLSa"
      },
      "source": [
        "**Task 11 `stretch goal`:** Create a DataFrame `submission` whose index is the same as `X_test` and that has one column `'status_group'` with your predictions. Next, save this DataFrame as a CSV file and upload your submissions to our competition site. \n",
        "\n",
        "**Note:** Check the `sample_submission.csv` file on the competition website to make sure your submissions follows the same formatting. "
      ]
    },
    {
      "cell_type": "code",
      "metadata": {
        "id": "B3SwWvd9PbNM"
      },
      "source": [
        "for i in range(len(y_pred)):\n",
        "  if y_pred[i] == 'functional':\n",
        "    y_pred[i]='0'\n",
        "  elif y_pred[i]== 'functional needs repair':\n",
        "    y_pred[i]='1'\n",
        "  else:\n",
        "    y_pred[i]='2'"
      ],
      "execution_count": 95,
      "outputs": []
    },
    {
      "cell_type": "code",
      "metadata": {
        "id": "-TWTb61ejLSa"
      },
      "source": [
        "submission = sample[['S.No.']].copy() #get the id and the prediction \n",
        "submission['status_group'] = y_pred\n",
        "submission.to_csv('tanzania-submission-rf1.csv', index=False)"
      ],
      "execution_count": 96,
      "outputs": []
    },
    {
      "cell_type": "code",
      "metadata": {
        "id": "_m4_0HADUkmZ"
      },
      "source": [
        ""
      ],
      "execution_count": null,
      "outputs": []
    }
  ]
}